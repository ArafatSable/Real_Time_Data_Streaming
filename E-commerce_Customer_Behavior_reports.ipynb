{
 "cells": [
  {
   "cell_type": "markdown",
   "metadata": {},
   "source": [
    "# **E-commerce Customer Behavior Analysis** \n",
    "___"
   ]
  },
  {
   "cell_type": "markdown",
   "metadata": {},
   "source": [
    "# `00` Import Dependencies"
   ]
  },
  {
   "cell_type": "code",
   "execution_count": 72,
   "metadata": {},
   "outputs": [],
   "source": [
    "# Install Dependencies\n",
    "# pip install yellowbrick pyspark kafka-python\n"
   ]
  },
  {
   "cell_type": "code",
   "execution_count": 73,
   "metadata": {},
   "outputs": [],
   "source": [
    "# For Manipulation\n",
    "import pandas as pd\n",
    "import numpy as np\n",
    "# For Visualization\n",
    "import matplotlib.pyplot as plt\n",
    "import seaborn as sns\n",
    "# For pyspark usage\n",
    "from pyspark.sql import SparkSession\n",
    "import pyspark.sql.functions as fn\n",
    "from pyspark.sql.functions import when\n",
    "from pyspark.sql.functions import col\n",
    "from pyspark.ml.feature import StringIndexer, StandardScaler\n",
    "from pyspark.ml.feature import VectorAssembler\n",
    "from pyspark.ml.classification import LogisticRegression\n",
    "from pyspark.ml import Pipeline\n",
    "from pyspark.ml.evaluation import MulticlassClassificationEvaluator\n",
    "from pyspark.mllib.evaluation import MulticlassMetrics\n",
    "from pyspark.ml.feature import StandardScaler\n",
    "from pyspark.ml.clustering import KMeans\n",
    "from pyspark.ml.evaluation import ClusteringEvaluator"
   ]
  },
  {
   "cell_type": "markdown",
   "metadata": {},
   "source": [
    "# `01` Initialize Spark Session and Read Data"
   ]
  },
  {
   "cell_type": "code",
   "execution_count": 74,
   "metadata": {},
   "outputs": [],
   "source": [
    "# Initializing Spark Session\n",
    "spark = SparkSession.builder.appName(\"CustomerSegmentation\").getOrCreate()"
   ]
  },
  {
   "cell_type": "code",
   "execution_count": 75,
   "metadata": {},
   "outputs": [
    {
     "name": "stdout",
     "output_type": "stream",
     "text": [
      "+-----------+------+---+-------------+---------------+-----------+---------------+--------------+----------------+------------------------+------------------+\n",
      "|customer_id|gender|age|         city|membership_type|total_spend|items_purchased|average_rating|discount_applied|days_since_last_purchase|satisfaction_level|\n",
      "+-----------+------+---+-------------+---------------+-----------+---------------+--------------+----------------+------------------------+------------------+\n",
      "|        101|Female| 29|     New York|           Gold|     1120.2|             14|           4.6|            true|                      25|         Satisfied|\n",
      "|        102|  Male| 34|  Los Angeles|         Silver|      780.5|             11|           4.1|           false|                      18|           Neutral|\n",
      "|        103|Female| 43|      Chicago|         Bronze|     510.75|              9|           3.4|            true|                      42|       Unsatisfied|\n",
      "|        104|  Male| 30|San Francisco|           Gold|     1480.3|             19|           4.7|           false|                      12|         Satisfied|\n",
      "|        105|  Male| 27|        Miami|         Silver|      720.4|             13|           4.0|            true|                      55|       Unsatisfied|\n",
      "|        106|Female| 37|      Houston|         Bronze|      440.8|              8|           3.1|           false|                      22|           Neutral|\n",
      "|        107|Female| 31|     New York|           Gold|     1150.6|             15|           4.5|            true|                      28|         Satisfied|\n",
      "|        108|  Male| 35|  Los Angeles|         Silver|      800.9|             12|           4.2|           false|                      14|           Neutral|\n",
      "|        109|Female| 41|      Chicago|         Bronze|     495.25|             10|           3.6|            true|                      40|       Unsatisfied|\n",
      "|        110|  Male| 28|San Francisco|           Gold|     1520.1|             21|           4.8|           false|                       9|         Satisfied|\n",
      "+-----------+------+---+-------------+---------------+-----------+---------------+--------------+----------------+------------------------+------------------+\n",
      "only showing top 10 rows\n",
      "\n"
     ]
    }
   ],
   "source": [
    "# Loading The Dataset\n",
    "customer_data = spark.read.csv(\"E-commerce Customer Behavior.csv\", header=True, inferSchema=True)\n",
    "customer_data.show(10)\n"
   ]
  },
  {
   "cell_type": "markdown",
   "metadata": {},
   "source": [
    "# `02` Basic EDA"
   ]
  },
  {
   "cell_type": "code",
   "execution_count": 76,
   "metadata": {},
   "outputs": [
    {
     "name": "stdout",
     "output_type": "stream",
     "text": [
      "root\n",
      " |-- customer_id: integer (nullable = true)\n",
      " |-- gender: string (nullable = true)\n",
      " |-- age: integer (nullable = true)\n",
      " |-- city: string (nullable = true)\n",
      " |-- membership_type: string (nullable = true)\n",
      " |-- total_spend: double (nullable = true)\n",
      " |-- items_purchased: integer (nullable = true)\n",
      " |-- average_rating: double (nullable = true)\n",
      " |-- discount_applied: boolean (nullable = true)\n",
      " |-- days_since_last_purchase: integer (nullable = true)\n",
      " |-- satisfaction_level: string (nullable = true)\n",
      "\n"
     ]
    }
   ],
   "source": [
    "customer_data.printSchema()"
   ]
  },
  {
   "cell_type": "code",
   "execution_count": 77,
   "metadata": {},
   "outputs": [
    {
     "data": {
      "text/html": [
       "<div>\n",
       "<style scoped>\n",
       "    .dataframe tbody tr th:only-of-type {\n",
       "        vertical-align: middle;\n",
       "    }\n",
       "\n",
       "    .dataframe tbody tr th {\n",
       "        vertical-align: top;\n",
       "    }\n",
       "\n",
       "    .dataframe thead th {\n",
       "        text-align: right;\n",
       "    }\n",
       "</style>\n",
       "<table border=\"1\" class=\"dataframe\">\n",
       "  <thead>\n",
       "    <tr style=\"text-align: right;\">\n",
       "      <th></th>\n",
       "      <th>count</th>\n",
       "      <th>unique</th>\n",
       "      <th>top</th>\n",
       "      <th>freq</th>\n",
       "      <th>mean</th>\n",
       "      <th>std</th>\n",
       "      <th>min</th>\n",
       "      <th>25%</th>\n",
       "      <th>50%</th>\n",
       "      <th>75%</th>\n",
       "      <th>max</th>\n",
       "    </tr>\n",
       "  </thead>\n",
       "  <tbody>\n",
       "    <tr>\n",
       "      <th>customer_id</th>\n",
       "      <td>350.0</td>\n",
       "      <td>NaN</td>\n",
       "      <td>NaN</td>\n",
       "      <td>NaN</td>\n",
       "      <td>275.5</td>\n",
       "      <td>101.180532</td>\n",
       "      <td>101.0</td>\n",
       "      <td>188.25</td>\n",
       "      <td>275.5</td>\n",
       "      <td>362.75</td>\n",
       "      <td>450.0</td>\n",
       "    </tr>\n",
       "    <tr>\n",
       "      <th>gender</th>\n",
       "      <td>350</td>\n",
       "      <td>2</td>\n",
       "      <td>Female</td>\n",
       "      <td>175</td>\n",
       "      <td>NaN</td>\n",
       "      <td>NaN</td>\n",
       "      <td>NaN</td>\n",
       "      <td>NaN</td>\n",
       "      <td>NaN</td>\n",
       "      <td>NaN</td>\n",
       "      <td>NaN</td>\n",
       "    </tr>\n",
       "    <tr>\n",
       "      <th>age</th>\n",
       "      <td>350.0</td>\n",
       "      <td>NaN</td>\n",
       "      <td>NaN</td>\n",
       "      <td>NaN</td>\n",
       "      <td>33.597143</td>\n",
       "      <td>4.870882</td>\n",
       "      <td>26.0</td>\n",
       "      <td>30.0</td>\n",
       "      <td>32.5</td>\n",
       "      <td>37.0</td>\n",
       "      <td>43.0</td>\n",
       "    </tr>\n",
       "    <tr>\n",
       "      <th>city</th>\n",
       "      <td>350</td>\n",
       "      <td>6</td>\n",
       "      <td>New York</td>\n",
       "      <td>59</td>\n",
       "      <td>NaN</td>\n",
       "      <td>NaN</td>\n",
       "      <td>NaN</td>\n",
       "      <td>NaN</td>\n",
       "      <td>NaN</td>\n",
       "      <td>NaN</td>\n",
       "      <td>NaN</td>\n",
       "    </tr>\n",
       "    <tr>\n",
       "      <th>membership_type</th>\n",
       "      <td>350</td>\n",
       "      <td>3</td>\n",
       "      <td>Gold</td>\n",
       "      <td>117</td>\n",
       "      <td>NaN</td>\n",
       "      <td>NaN</td>\n",
       "      <td>NaN</td>\n",
       "      <td>NaN</td>\n",
       "      <td>NaN</td>\n",
       "      <td>NaN</td>\n",
       "      <td>NaN</td>\n",
       "    </tr>\n",
       "    <tr>\n",
       "      <th>total_spend</th>\n",
       "      <td>350.0</td>\n",
       "      <td>NaN</td>\n",
       "      <td>NaN</td>\n",
       "      <td>NaN</td>\n",
       "      <td>845.381714</td>\n",
       "      <td>362.058695</td>\n",
       "      <td>410.8</td>\n",
       "      <td>502.0</td>\n",
       "      <td>775.2</td>\n",
       "      <td>1160.6</td>\n",
       "      <td>1520.1</td>\n",
       "    </tr>\n",
       "    <tr>\n",
       "      <th>items_purchased</th>\n",
       "      <td>350.0</td>\n",
       "      <td>NaN</td>\n",
       "      <td>NaN</td>\n",
       "      <td>NaN</td>\n",
       "      <td>12.6</td>\n",
       "      <td>4.155984</td>\n",
       "      <td>7.0</td>\n",
       "      <td>9.0</td>\n",
       "      <td>12.0</td>\n",
       "      <td>15.0</td>\n",
       "      <td>21.0</td>\n",
       "    </tr>\n",
       "    <tr>\n",
       "      <th>average_rating</th>\n",
       "      <td>350.0</td>\n",
       "      <td>NaN</td>\n",
       "      <td>NaN</td>\n",
       "      <td>NaN</td>\n",
       "      <td>4.019143</td>\n",
       "      <td>0.580539</td>\n",
       "      <td>3.0</td>\n",
       "      <td>3.5</td>\n",
       "      <td>4.1</td>\n",
       "      <td>4.5</td>\n",
       "      <td>4.9</td>\n",
       "    </tr>\n",
       "    <tr>\n",
       "      <th>discount_applied</th>\n",
       "      <td>350</td>\n",
       "      <td>2</td>\n",
       "      <td>True</td>\n",
       "      <td>175</td>\n",
       "      <td>NaN</td>\n",
       "      <td>NaN</td>\n",
       "      <td>NaN</td>\n",
       "      <td>NaN</td>\n",
       "      <td>NaN</td>\n",
       "      <td>NaN</td>\n",
       "      <td>NaN</td>\n",
       "    </tr>\n",
       "    <tr>\n",
       "      <th>days_since_last_purchase</th>\n",
       "      <td>350.0</td>\n",
       "      <td>NaN</td>\n",
       "      <td>NaN</td>\n",
       "      <td>NaN</td>\n",
       "      <td>26.588571</td>\n",
       "      <td>13.440813</td>\n",
       "      <td>9.0</td>\n",
       "      <td>15.0</td>\n",
       "      <td>23.0</td>\n",
       "      <td>38.0</td>\n",
       "      <td>63.0</td>\n",
       "    </tr>\n",
       "    <tr>\n",
       "      <th>satisfaction_level</th>\n",
       "      <td>348</td>\n",
       "      <td>3</td>\n",
       "      <td>Satisfied</td>\n",
       "      <td>125</td>\n",
       "      <td>NaN</td>\n",
       "      <td>NaN</td>\n",
       "      <td>NaN</td>\n",
       "      <td>NaN</td>\n",
       "      <td>NaN</td>\n",
       "      <td>NaN</td>\n",
       "      <td>NaN</td>\n",
       "    </tr>\n",
       "  </tbody>\n",
       "</table>\n",
       "</div>"
      ],
      "text/plain": [
       "                          count unique        top freq        mean  \\\n",
       "customer_id               350.0    NaN        NaN  NaN       275.5   \n",
       "gender                      350      2     Female  175         NaN   \n",
       "age                       350.0    NaN        NaN  NaN   33.597143   \n",
       "city                        350      6   New York   59         NaN   \n",
       "membership_type             350      3       Gold  117         NaN   \n",
       "total_spend               350.0    NaN        NaN  NaN  845.381714   \n",
       "items_purchased           350.0    NaN        NaN  NaN        12.6   \n",
       "average_rating            350.0    NaN        NaN  NaN    4.019143   \n",
       "discount_applied            350      2       True  175         NaN   \n",
       "days_since_last_purchase  350.0    NaN        NaN  NaN   26.588571   \n",
       "satisfaction_level          348      3  Satisfied  125         NaN   \n",
       "\n",
       "                                 std    min     25%    50%     75%     max  \n",
       "customer_id               101.180532  101.0  188.25  275.5  362.75   450.0  \n",
       "gender                           NaN    NaN     NaN    NaN     NaN     NaN  \n",
       "age                         4.870882   26.0    30.0   32.5    37.0    43.0  \n",
       "city                             NaN    NaN     NaN    NaN     NaN     NaN  \n",
       "membership_type                  NaN    NaN     NaN    NaN     NaN     NaN  \n",
       "total_spend               362.058695  410.8   502.0  775.2  1160.6  1520.1  \n",
       "items_purchased             4.155984    7.0     9.0   12.0    15.0    21.0  \n",
       "average_rating              0.580539    3.0     3.5    4.1     4.5     4.9  \n",
       "discount_applied                 NaN    NaN     NaN    NaN     NaN     NaN  \n",
       "days_since_last_purchase   13.440813    9.0    15.0   23.0    38.0    63.0  \n",
       "satisfaction_level               NaN    NaN     NaN    NaN     NaN     NaN  "
      ]
     },
     "execution_count": 77,
     "metadata": {},
     "output_type": "execute_result"
    }
   ],
   "source": [
    "customer_df = customer_data.toPandas()\n",
    "customer_df.describe(include= 'all').T"
   ]
  },
  {
   "cell_type": "code",
   "execution_count": 78,
   "metadata": {},
   "outputs": [
    {
     "data": {
      "text/plain": [
       "customer_id                 0\n",
       "gender                      0\n",
       "age                         0\n",
       "city                        0\n",
       "membership_type             0\n",
       "total_spend                 0\n",
       "items_purchased             0\n",
       "average_rating              0\n",
       "discount_applied            0\n",
       "days_since_last_purchase    0\n",
       "satisfaction_level          2\n",
       "dtype: int64"
      ]
     },
     "execution_count": 78,
     "metadata": {},
     "output_type": "execute_result"
    }
   ],
   "source": [
    "customer_df.isnull().sum()"
   ]
  },
  {
   "cell_type": "markdown",
   "metadata": {},
   "source": [
    "\n",
    "### Explore Categorical columns\n"
   ]
  },
  {
   "cell_type": "code",
   "execution_count": 79,
   "metadata": {},
   "outputs": [
    {
     "name": "stdout",
     "output_type": "stream",
     "text": [
      "+------+\n",
      "|gender|\n",
      "+------+\n",
      "|Female|\n",
      "|  Male|\n",
      "+------+\n",
      "\n"
     ]
    }
   ],
   "source": [
    "customer_data.select(['gender']).distinct().show()"
   ]
  },
  {
   "cell_type": "code",
   "execution_count": 80,
   "metadata": {},
   "outputs": [
    {
     "name": "stdout",
     "output_type": "stream",
     "text": [
      "+-------------+\n",
      "|         city|\n",
      "+-------------+\n",
      "|  Los Angeles|\n",
      "|San Francisco|\n",
      "|      Chicago|\n",
      "|      Houston|\n",
      "|        Miami|\n",
      "|     New York|\n",
      "+-------------+\n",
      "\n"
     ]
    }
   ],
   "source": [
    "customer_data.select(['city']).distinct().show()\n"
   ]
  },
  {
   "cell_type": "code",
   "execution_count": 81,
   "metadata": {},
   "outputs": [
    {
     "name": "stdout",
     "output_type": "stream",
     "text": [
      "+---------------+\n",
      "|membership_type|\n",
      "+---------------+\n",
      "|         Silver|\n",
      "|           Gold|\n",
      "|         Bronze|\n",
      "+---------------+\n",
      "\n"
     ]
    }
   ],
   "source": [
    "customer_data.select(['membership_type']).distinct().show()"
   ]
  },
  {
   "cell_type": "code",
   "execution_count": 82,
   "metadata": {},
   "outputs": [
    {
     "name": "stdout",
     "output_type": "stream",
     "text": [
      "+------------------+\n",
      "|satisfaction_level|\n",
      "+------------------+\n",
      "|       Unsatisfied|\n",
      "|         Satisfied|\n",
      "|           Neutral|\n",
      "|              NULL|\n",
      "+------------------+\n",
      "\n"
     ]
    }
   ],
   "source": [
    "customer_data.select(['satisfaction_level']).distinct().show()"
   ]
  },
  {
   "cell_type": "markdown",
   "metadata": {},
   "source": [
    "# `03` Comprehensive E-Commerce Customer Behavior Analysis"
   ]
  },
  {
   "cell_type": "markdown",
   "metadata": {},
   "source": [
    "## Q1 : Can we segment customers based on their demographic information (Age, Gender, City) and shopping behaviors (Total Spend, Number of Items Purchased, Membership Type)"
   ]
  },
  {
   "cell_type": "markdown",
   "metadata": {},
   "source": [
    "### **Customer Segmentation based on 'Membership', 'Age', 'City', and 'Item Purchased':**\n"
   ]
  },
  {
   "cell_type": "code",
   "execution_count": 83,
   "metadata": {},
   "outputs": [
    {
     "name": "stdout",
     "output_type": "stream",
     "text": [
      "Customer Segmentation Result :  \n",
      "+---------------+-------------+-------------+------------------+--------------------+\n",
      "|membership_type|    age Group|         city|  avg(total_spend)|sum(items_purchased)|\n",
      "+---------------+-------------+-------------+------------------+--------------------+\n",
      "|         Silver|Between 35-50|  Los Angeles|            814.65|                 288|\n",
      "|         Bronze|Between 35-50|      Chicago| 499.8827586206897|                 546|\n",
      "|           Gold|     Under 35|     New York|1165.0355932203393|                 901|\n",
      "|         Silver|     Under 35|  Los Angeles| 799.2114285714289|                 401|\n",
      "|         Bronze|Between 35-50|      Houston|446.89482758620665|                 439|\n",
      "|         Silver|     Under 35|        Miami| 690.3896551724141|                 675|\n",
      "|           Gold|     Under 35|San Francisco|1460.4561403508774|                1141|\n",
      "|           Gold|Between 35-50|San Francisco|            1420.8|                  19|\n",
      "+---------------+-------------+-------------+------------------+--------------------+\n",
      "\n"
     ]
    }
   ],
   "source": [
    "# Create age groups\n",
    "customer_df_age_groups = customer_data.withColumn(\"age Group\",\n",
    "                       when(customer_data[\"age\"] < 35, \"Under 35\")\n",
    "                       .when((customer_data[\"age\"] >= 35) & (customer_data[\"age\"] <= 50), \"Between 35-50\")\n",
    "                       .otherwise(\"Over 50\"))\n",
    "\n",
    "# Group by Membership Type, Age Group, and City\n",
    "customer_segments = customer_df_age_groups.groupBy(\"membership_type\", \"age Group\", \"city\").agg({\n",
    "    \"total_spend\": \"mean\",\n",
    "    \"items_purchased\": \"sum\"\n",
    "})\n",
    "\n",
    "# Group by City separately\n",
    "city_segments = customer_df_age_groups.groupBy(\"city\").agg({\n",
    "    \"total_spend\": \"mean\",\n",
    "    \"items_purchased\": \"sum\"\n",
    "})\n",
    "\n",
    "# Show all segments in a single DataFrame\n",
    "print('Customer Segmentation Result :  ')\n",
    "customer_segments.show()"
   ]
  },
  {
   "cell_type": "markdown",
   "metadata": {},
   "source": [
    "### **Customer Segmentation based on 'City', and 'Item Purchased':**\n"
   ]
  },
  {
   "cell_type": "code",
   "execution_count": 84,
   "metadata": {},
   "outputs": [
    {
     "name": "stdout",
     "output_type": "stream",
     "text": [
      "+-------------+------------------+--------------------+\n",
      "|         city|  avg(total_spend)|sum(items_purchased)|\n",
      "+-------------+------------------+--------------------+\n",
      "|  Los Angeles| 805.4915254237288|                 689|\n",
      "|San Francisco|1459.7724137931039|                1160|\n",
      "|      Chicago| 499.8827586206897|                 546|\n",
      "|      Houston|446.89482758620665|                 439|\n",
      "|        Miami| 690.3896551724141|                 675|\n",
      "|     New York|1165.0355932203393|                 901|\n",
      "+-------------+------------------+--------------------+\n",
      "\n"
     ]
    }
   ],
   "source": [
    "# Show city segments separately\n",
    "city_segments.show()"
   ]
  },
  {
   "cell_type": "markdown",
   "metadata": {},
   "source": [
    "### **Customer Segmentation based on 'Membership', 'City', and 'Item Purchased':**\n"
   ]
  },
  {
   "cell_type": "code",
   "execution_count": 85,
   "metadata": {},
   "outputs": [
    {
     "data": {
      "image/png": "[encoded data removed]",
      "text/plain": [
       "<Figure size 1200x600 with 1 Axes>"
      ]
     },
     "metadata": {},
     "output_type": "display_data"
    }
   ],
   "source": [
    "# Convert Spark DataFrame to Pandas DataFrame\n",
    "customer_segments_pd = customer_segments.toPandas()\n",
    "\n",
    "# Plot Customer Segments\n",
    "plt.figure(figsize=(12, 6))\n",
    "for membership_type, group in customer_segments_pd.groupby('membership_type'):\n",
    "    plt.bar(group['city'] , group['sum(items_purchased)'], label=membership_type)\n",
    "customer_df\n",
    "plt.title('Customer Segments')\n",
    "plt.xlabel('City')\n",
    "plt.ylabel('Total Items Purchased')\n",
    "plt.legend(title='Membership Type')\n",
    "plt.show()"
   ]
  },
  {
   "cell_type": "markdown",
   "metadata": {},
   "source": [
    "## **Customer Segmentation Analysis based on 'Membership', 'Age', 'City', and 'Item Purchased':**\n",
    "\n",
    "#### ○ Gold Members (Under 35 in New York):\n",
    "\n",
    "      • Exhibit the highest average total spending (1165.04) and a substantial sum of items purchased (901) and Indication a potentially \n",
    "       high-value and loyal customer segment.\n",
    "\n",
    "#### ○ Silver Members (Under 35 in Los Angeles):\n",
    "\n",
    "      • Show a considerable sum of items purchased (401) and a moderate average total spending (799.21).\n",
    "      \n",
    "#### ○ Bronze Members (Between 35-50 in Chicago):\n",
    "\n",
    "      • Have a high sum of items purchased (546) but a relatively lower average total spending (499.88).\n",
    "\t\t\n"
   ]
  },
  {
   "cell_type": "markdown",
   "metadata": {},
   "source": [
    "### Customer Segmentation based on their 'Membership Type', 'Total Spend', and 'Items Purchased' **Using Kmeans**. "
   ]
  },
  {
   "cell_type": "code",
   "execution_count": 86,
   "metadata": {},
   "outputs": [
    {
     "name": "stdout",
     "output_type": "stream",
     "text": [
      "+---------------+-----------+---------------+\n",
      "|membership_type|total_spend|items_purchased|\n",
      "+---------------+-----------+---------------+\n",
      "|           Gold|     1120.2|             14|\n",
      "|         Silver|      780.5|             11|\n",
      "|         Bronze|     510.75|              9|\n",
      "+---------------+-----------+---------------+\n",
      "only showing top 3 rows\n",
      "\n",
      "+---------------+-----------+---------------+-----------------+\n",
      "|membership_type|total_spend|items_purchased|         features|\n",
      "+---------------+-----------+---------------+-----------------+\n",
      "|              2|     1120.2|             14|[2.0,1120.2,14.0]|\n",
      "|              1|      780.5|             11| [1.0,780.5,11.0]|\n",
      "|              0|     510.75|              9| [0.0,510.75,9.0]|\n",
      "+---------------+-----------+---------------+-----------------+\n",
      "only showing top 3 rows\n",
      "\n",
      "+---------------+-----------+---------------+-----------------+--------------------+\n",
      "|membership_type|total_spend|items_purchased|         features|     scaled_features|\n",
      "+---------------+-----------+---------------+-----------------+--------------------+\n",
      "|              2|     1120.2|             14|[2.0,1120.2,14.0]|[2.44775198481202...|\n",
      "|              1|      780.5|             11| [1.0,780.5,11.0]|[1.22387599240601...|\n",
      "|              0|     510.75|              9| [0.0,510.75,9.0]|[0.0,1.4106828714...|\n",
      "+---------------+-----------+---------------+-----------------+--------------------+\n",
      "only showing top 3 rows\n",
      "\n"
     ]
    }
   ],
   "source": [
    "# split the columns we want to analyze\n",
    "customer_seg_data = customer_data['membership_type', 'total_spend', 'items_purchased']\n",
    "customer_seg_data.show(3)\n",
    "\n",
    "# # Encoding 'membership_type'\n",
    "customer_seg = customer_seg_data.replace(['Bronze', 'Silver', 'Gold'], ['0', '1', '2'], 'membership_type')\n",
    "customer_seg = customer_seg.withColumn(\"membership_type\", customer_seg['membership_type'].cast('integer'))\n",
    "\n",
    "# Assemble features into a single vector\n",
    "assembler = VectorAssembler(inputCols=['membership_type', 'total_spend', 'items_purchased'],\n",
    "                            outputCol=\"features\")\n",
    "customer_seg = assembler.transform(customer_seg)\n",
    "customer_seg.show(3)\n",
    "\n",
    "# Standardize features\n",
    "scaler = StandardScaler(inputCol=\"features\", outputCol=\"scaled_features\")\n",
    "scaler_model = scaler.fit(customer_seg)\n",
    "scaled_customer_seg = scaler_model.transform(customer_seg)\n",
    "scaled_customer_seg.show(3)"
   ]
  },
  {
   "cell_type": "code",
   "execution_count": 87,
   "metadata": {},
   "outputs": [
    {
     "data": {
      "image/png": "[encoded data removed]",
      "text/plain": [
       "<Figure size 640x480 with 1 Axes>"
      ]
     },
     "metadata": {},
     "output_type": "display_data"
    }
   ],
   "source": [
    "## Find the Best k splits for kmeans\n",
    "# Calculate inertia for different values of k\n",
    "inertia = []\n",
    "for k in range(2, 11):\n",
    "    kmeans = KMeans(k=k)\n",
    "    kmeans.setFeaturesCol(\"scaled_features\")\n",
    "    model = kmeans.fit(scaled_customer_seg)\n",
    "    inertia.append(model.summary.trainingCost)\n",
    "\n",
    "# Plot the inertia values\n",
    "plt.plot(range(2, 11), inertia, marker='o')\n",
    "plt.xlabel('Number of Clusters (k)')\n",
    "plt.ylabel('Inertia')\n",
    "plt.title('Elbow Method for Optimal k')\n",
    "plt.show()"
   ]
  },
  {
   "cell_type": "code",
   "execution_count": 88,
   "metadata": {},
   "outputs": [
    {
     "name": "stdout",
     "output_type": "stream",
     "text": [
      "Silhouette score: 0.9409567254207083\n"
     ]
    }
   ],
   "source": [
    "\n",
    "# Train KMeans model\n",
    "kmeans = KMeans(featuresCol=\"scaled_features\", k= 4, seed=42)  # I have tried 3 and 4, 4 is way higher in Silhouette score\n",
    "# Make predictions\n",
    "predictions = kmeans.fit(scaled_customer_seg).transform(scaled_customer_seg)\n",
    "\n",
    "# Evaluate clustering performance\n",
    "silhouette =  ClusteringEvaluator().evaluate(predictions)\n",
    "print(f\"Silhouette score: {silhouette}\")"
   ]
  },
  {
   "cell_type": "code",
   "execution_count": 89,
   "metadata": {},
   "outputs": [
    {
     "data": {
      "text/plain": [
       "prediction\n",
       "0    117\n",
       "1    116\n",
       "2     59\n",
       "3     58\n",
       "Name: count, dtype: int64"
      ]
     },
     "execution_count": 89,
     "metadata": {},
     "output_type": "execute_result"
    }
   ],
   "source": [
    "cluster_distribution = predictions.select(\"prediction\").toPandas()\n",
    "\n",
    "# Count the occurrences of each cluster label and Rename clusters\n",
    "cluster_distribution_counts = cluster_distribution[\"prediction\"].value_counts().sort_index()\n",
    "cluster_distribution_counts"
   ]
  },
  {
   "cell_type": "code",
   "execution_count": 90,
   "metadata": {},
   "outputs": [
    {
     "data": {
      "image/png": "[encoded data removed]",
      "text/plain": [
       "<Figure size 640x480 with 1 Axes>"
      ]
     },
     "metadata": {},
     "output_type": "display_data"
    },
    {
     "name": "stdout",
     "output_type": "stream",
     "text": [
      "\n",
      "Cluster 0 Sample:\n",
      "\n",
      "+---------------+-----------+---------------+\n",
      "|membership_type|total_spend|items_purchased|\n",
      "+---------------+-----------+---------------+\n",
      "|              1|      780.5|             11|\n",
      "|              1|      720.4|             13|\n",
      "|              1|      800.9|             12|\n",
      "|              1|      690.3|             11|\n",
      "|              1|     820.75|             13|\n",
      "+---------------+-----------+---------------+\n",
      "only showing top 5 rows\n",
      "\n",
      "\n",
      "Cluster 0 Information:\n",
      "\n",
      "  summary membership_type        total_spend     items_purchased\n",
      "0   count             117                117                 117\n",
      "1    mean             1.0  748.4324786324781  11.658119658119658\n",
      "2  stddev             0.0  60.59424951243999  1.1076722498757066\n",
      "3     min               1              660.3                  10\n",
      "4     max               1              830.9                  14\n",
      "\n",
      "Cluster 1 Sample:\n",
      "\n",
      "+---------------+-----------+---------------+\n",
      "|membership_type|total_spend|items_purchased|\n",
      "+---------------+-----------+---------------+\n",
      "|              0|     510.75|              9|\n",
      "|              0|      440.8|              8|\n",
      "|              0|     495.25|             10|\n",
      "|              0|      470.5|              7|\n",
      "|              0|      530.4|              9|\n",
      "+---------------+-----------+---------------+\n",
      "only showing top 5 rows\n",
      "\n",
      "\n",
      "Cluster 1 Information:\n",
      "\n",
      "  summary membership_type         total_spend    items_purchased\n",
      "0   count             116                 116                116\n",
      "1    mean             0.0  473.38879310344856  8.491379310344827\n",
      "2  stddev             0.0   31.29943469846984  1.050843881634287\n",
      "3     min               0               410.8                  7\n",
      "4     max               0               530.4                 10\n",
      "\n",
      "Cluster 2 Sample:\n",
      "\n",
      "+---------------+-----------+---------------+\n",
      "|membership_type|total_spend|items_purchased|\n",
      "+---------------+-----------+---------------+\n",
      "|              2|     1120.2|             14|\n",
      "|              2|     1150.6|             15|\n",
      "|              2|     1200.8|             16|\n",
      "|              2|     1170.3|             14|\n",
      "|              2|     1140.6|             15|\n",
      "+---------------+-----------+---------------+\n",
      "only showing top 5 rows\n",
      "\n",
      "\n",
      "Cluster 2 Information:\n",
      "\n",
      "  summary membership_type         total_spend     items_purchased\n",
      "0   count              59                  59                  59\n",
      "1    mean             2.0  1165.0355932203393  15.271186440677965\n",
      "2  stddev             0.0  24.611861190896484  0.7618151752179042\n",
      "3     min               2              1120.2                  14\n",
      "4     max               2              1210.6                  17\n",
      "\n",
      "Cluster 3 Sample:\n",
      "\n",
      "+---------------+-----------+---------------+\n",
      "|membership_type|total_spend|items_purchased|\n",
      "+---------------+-----------+---------------+\n",
      "|              2|     1480.3|             19|\n",
      "|              2|     1520.1|             21|\n",
      "|              2|     1360.2|             18|\n",
      "|              2|     1470.5|             20|\n",
      "|              2|     1500.1|             21|\n",
      "+---------------+-----------+---------------+\n",
      "only showing top 5 rows\n",
      "\n",
      "\n",
      "Cluster 3 Information:\n",
      "\n",
      "  summary membership_type         total_spend     items_purchased\n",
      "0   count              58                  58                  58\n",
      "1    mean             2.0  1459.7724137931039                20.0\n",
      "2  stddev             0.0  42.241178018459294  1.0760551736979407\n",
      "3     min               2              1360.2                  18\n",
      "4     max               2              1520.1                  21\n"
     ]
    }
   ],
   "source": [
    "class_names = ['Cluster A', 'Cluster B', 'Cluster C', 'Cluster D']\n",
    "\n",
    "# Plot a pie chart\n",
    "plt.pie(cluster_distribution_counts, labels=class_names, autopct='%1.1f%%', startangle=90)\n",
    "plt.title('Cluster Distribution')\n",
    "plt.show()\n",
    "\n",
    "# Print information related to each cluster\n",
    "for cluster_label, count in cluster_distribution_counts.items():\n",
    "    cluster_items = predictions.filter(predictions['prediction'] == cluster_label).select(['membership_type', 'total_spend', 'items_purchased'])\n",
    "    cluster_info = cluster_items.describe().toPandas()\n",
    "    print(f\"\\nCluster {cluster_label} Sample:\\n\")\n",
    "    cluster_items.show(5)\n",
    "    print(f\"\\nCluster {cluster_label} Information:\\n\")\n",
    "    print(cluster_info)\n"
   ]
  },
  {
   "cell_type": "markdown",
   "metadata": {},
   "source": [
    "## **Customer Segmentation Analysis based on 'Membership Type', 'Total Spend' and 'Items Purchased' :**\n",
    "\n",
    "#### ○ Cluster 0:\n",
    "    • Membership Type: All customers in this cluster have a membership type of 1.\n",
    "    • Total Spend: The average total spend is approximately $748.43 with a standard deviation of $60.59.\n",
    "    • Items Purchased: On average, customers in this cluster purchase around 11.66 items with a relatively low standard deviation.\n",
    "\n",
    "#### ○ Cluster 1:\n",
    "    • Membership Type: All customers in this cluster have a membership type of 0.\n",
    "    • Total Spend: The average total spend is around $473.39 with a standard deviation of $31.30.\n",
    "    • Items Purchased: On average, customers in this cluster purchase around 8.49 items with a standard deviation of 1.05.\n",
    "\n",
    "#### ○ Cluster 2:\n",
    "    • Membership Type: All customers in this cluster have a membership type of 2.\n",
    "    • Total Spend: The average total spend is approximately $1165.04 with a standard deviation of $24.61.\n",
    "    • Items Purchased: On average, customers in this cluster purchase around 15.27 items with a relatively low standard deviation.\n",
    "    \n",
    "#### ○ Cluster 3:\n",
    "    • Membership Type: All customers in this cluster have a membership type of 2.\n",
    "    • Total Spend: The average total spend is approximately $1459.77 with a standard deviation of $42.24.\n",
    "    • Items Purchased: On average, customers in this cluster purchase 20 items with a standard deviation of 1.08."
   ]
  },
  {
   "cell_type": "markdown",
   "metadata": {},
   "source": [
    "## Q2 : Which customers are at risk of not making future purchases based on their Days Since Last Purchase and Satisfaction Level"
   ]
  },
  {
   "cell_type": "code",
   "execution_count": 91,
   "metadata": {},
   "outputs": [
    {
     "name": "stdout",
     "output_type": "stream",
     "text": [
      "Customers at Risk Result : \n",
      "+-----------+------+---+-------+---------------+-----------+---------------+--------------+----------------+------------------------+------------------+\n",
      "|customer_id|gender|age|   city|membership_type|total_spend|items_purchased|average_rating|discount_applied|days_since_last_purchase|satisfaction_level|\n",
      "+-----------+------+---+-------+---------------+-----------+---------------+--------------+----------------+------------------------+------------------+\n",
      "|        103|Female| 43|Chicago|         Bronze|     510.75|              9|           3.4|            true|                      42|       Unsatisfied|\n",
      "|        105|  Male| 27|  Miami|         Silver|      720.4|             13|           4.0|            true|                      55|       Unsatisfied|\n",
      "|        109|Female| 41|Chicago|         Bronze|     495.25|             10|           3.6|            true|                      40|       Unsatisfied|\n",
      "|        111|  Male| 32|  Miami|         Silver|      690.3|             11|           3.8|            true|                      34|       Unsatisfied|\n",
      "|        115|Female| 42|Chicago|         Bronze|      530.4|              9|           3.5|            true|                      38|       Unsatisfied|\n",
      "|        117|  Male| 26|  Miami|         Silver|      700.6|             12|           3.7|            true|                      48|       Unsatisfied|\n",
      "|        121|Female| 43|Chicago|         Bronze|     505.75|             10|           3.3|            true|                      41|       Unsatisfied|\n",
      "|        123|  Male| 27|  Miami|         Silver|      710.4|             13|           4.1|            true|                      54|       Unsatisfied|\n",
      "|        127|Female| 41|Chicago|         Bronze|     485.25|              9|           3.6|            true|                      39|       Unsatisfied|\n",
      "|        129|  Male| 32|  Miami|         Silver|      670.3|             10|           3.8|            true|                      33|       Unsatisfied|\n",
      "|        133|Female| 42|Chicago|         Bronze|      520.4|              9|           3.5|            true|                      37|       Unsatisfied|\n",
      "|        135|  Male| 26|  Miami|         Silver|      690.6|             12|           3.9|            true|                      47|       Unsatisfied|\n",
      "|        139|Female| 43|Chicago|         Bronze|     500.75|             10|           3.3|            true|                      40|       Unsatisfied|\n",
      "|        141|  Male| 27|  Miami|         Silver|      700.4|             13|           4.0|            true|                      53|       Unsatisfied|\n",
      "|        145|Female| 41|Chicago|         Bronze|     480.25|              9|           3.6|            true|                      38|       Unsatisfied|\n",
      "|        147|  Male| 32|  Miami|         Silver|      680.3|             10|           3.8|            true|                      32|       Unsatisfied|\n",
      "|        151|Female| 43|Chicago|         Bronze|     505.75|             10|           3.3|            true|                      39|       Unsatisfied|\n",
      "|        153|  Male| 27|  Miami|         Silver|      710.4|             13|           4.1|            true|                      54|       Unsatisfied|\n",
      "|        157|Female| 41|Chicago|         Bronze|     485.25|              9|           3.6|            true|                      39|       Unsatisfied|\n",
      "|        159|  Male| 32|  Miami|         Silver|      670.3|             10|           3.8|            true|                      33|       Unsatisfied|\n",
      "+-----------+------+---+-------+---------------+-----------+---------------+--------------+----------------+------------------------+------------------+\n",
      "only showing top 20 rows\n",
      "\n"
     ]
    }
   ],
   "source": [
    "# Filtering customers at risk based on Days Since Last Purchase and Satisfaction Level\n",
    "at_risk_customers = customer_data.filter((customer_data[\"days_since_last_purchase\"] > 30) & (customer_data[\"satisfaction_level\"] == \"Unsatisfied\"))\n",
    "\n",
    "# Show customers at risk\n",
    "print('Customers at Risk Result : ')\n",
    "at_risk_customers.show()"
   ]
  },
  {
   "cell_type": "markdown",
   "metadata": {},
   "source": [
    "## **Customers Risk Analysis :**\n",
    "\n",
    "• The result provides a list of customers who have not made a purchase within the duration ranges from **32 to 55 days and have expressed**                  dissatisfaction.\n",
    "\n",
    "• The identified at-risk customers are primarily from the Bronze and Silver membership types.\n",
    "\n",
    "• Indicates that customers with lower-tier memberships might be more prone to dissatisfaction.\n",
    "\t\n",
    "\n"
   ]
  },
  {
   "cell_type": "markdown",
   "metadata": {},
   "source": [
    "# `04` Data Preprocessing"
   ]
  },
  {
   "cell_type": "markdown",
   "metadata": {},
   "source": [
    "## Drop Nulls and Customer IDs"
   ]
  },
  {
   "cell_type": "code",
   "execution_count": 92,
   "metadata": {},
   "outputs": [],
   "source": [
    "# Drop the \"Customer ID\" column\n",
    "customer_data = customer_data.drop(\"customer_id\")\n",
    "# Handling missing values\n",
    "customer_data = customer_data.na.drop()"
   ]
  },
  {
   "cell_type": "markdown",
   "metadata": {},
   "source": [
    "\n",
    "## Encode Categorical Columns\n"
   ]
  },
  {
   "cell_type": "code",
   "execution_count": 93,
   "metadata": {},
   "outputs": [
    {
     "data": {
      "text/plain": [
       "['gender', 'city', 'membership_type', 'satisfaction_level']"
      ]
     },
     "execution_count": 93,
     "metadata": {},
     "output_type": "execute_result"
    }
   ],
   "source": [
    "# Define string columns to be encoded\n",
    "string_cols = [col_name for col_name, data_type in customer_data.dtypes if data_type == \"string\"]\n",
    "string_cols"
   ]
  },
  {
   "cell_type": "code",
   "execution_count": 94,
   "metadata": {},
   "outputs": [],
   "source": [
    "# Fit StringIndexers on training set\n",
    "indexers = [StringIndexer(inputCol=col_name, outputCol=f\"{col_name}_index\", handleInvalid='skip').setHandleInvalid(\"keep\") for col_name in string_cols]\n"
   ]
  },
  {
   "cell_type": "code",
   "execution_count": 95,
   "metadata": {},
   "outputs": [],
   "source": [
    "# Apply transformations using transform method\n",
    "numeric_cols = ['age', 'total_spend', 'items_purchased', 'discount_applied', 'average_rating', 'days_since_last_purchase']\n",
    "assembler = VectorAssembler(inputCols=numeric_cols + [f\"{col_name}_index\" for col_name in string_cols], outputCol=\"features\")"
   ]
  },
  {
   "cell_type": "code",
   "execution_count": 96,
   "metadata": {},
   "outputs": [],
   "source": [
    "# scaling\n",
    "scaler = StandardScaler(inputCol=\"features\", outputCol=\"scaled_features\")"
   ]
  },
  {
   "cell_type": "markdown",
   "metadata": {},
   "source": [
    "## Train and Test Split \n"
   ]
  },
  {
   "cell_type": "code",
   "execution_count": 97,
   "metadata": {},
   "outputs": [
    {
     "name": "stdout",
     "output_type": "stream",
     "text": [
      "There are 295 rows in the training set, and 53 in the test set\n",
      "+------+---+--------+---------------+-----------+---------------+--------------+----------------+------------------------+------------------+\n",
      "|gender|age|    city|membership_type|total_spend|items_purchased|average_rating|discount_applied|days_since_last_purchase|satisfaction_level|\n",
      "+------+---+--------+---------------+-----------+---------------+--------------+----------------+------------------------+------------------+\n",
      "|Female| 29|   Miami|         Silver|      730.4|             14|           4.0|            true|                      50|       Unsatisfied|\n",
      "|Female| 29|New York|           Gold|     1120.2|             14|           4.6|            true|                      25|         Satisfied|\n",
      "+------+---+--------+---------------+-----------+---------------+--------------+----------------+------------------------+------------------+\n",
      "only showing top 2 rows\n",
      "\n"
     ]
    }
   ],
   "source": [
    "# Split the data into training and testing sets\n",
    "trainDF, testDF = customer_data.randomSplit([.8, .2], seed=42)\n",
    "print(f\"There are {trainDF.count()} rows in the training set, and {testDF.count()} in the test set\")\n",
    "\n",
    "trainDF.show(2)"
   ]
  },
  {
   "cell_type": "markdown",
   "metadata": {},
   "source": [
    "## Train the pipeline model using the trainig dataset"
   ]
  },
  {
   "cell_type": "code",
   "execution_count": 98,
   "metadata": {},
   "outputs": [],
   "source": [
    "# Create a pipeline for simplicity\n",
    "pipeline = Pipeline(stages=indexers + [assembler, scaler])\n",
    "pipeline_model = pipeline.fit(trainDF)"
   ]
  },
  {
   "cell_type": "code",
   "execution_count": 99,
   "metadata": {},
   "outputs": [
    {
     "name": "stdout",
     "output_type": "stream",
     "text": [
      "+------+---+--------+---------------+-----------+---------------+--------------+----------------+------------------------+------------------+------------+----------+---------------------+------------------------+--------------------+--------------------+\n",
      "|gender|age|    city|membership_type|total_spend|items_purchased|average_rating|discount_applied|days_since_last_purchase|satisfaction_level|gender_index|city_index|membership_type_index|satisfaction_level_index|            features|     scaled_features|\n",
      "+------+---+--------+---------------+-----------+---------------+--------------+----------------+------------------------+------------------+------------+----------+---------------------+------------------------+--------------------+--------------------+\n",
      "|Female| 29|   Miami|         Silver|      730.4|             14|           4.0|            true|                      50|       Unsatisfied|         1.0|       0.0|                  0.0|                     0.0|[29.0,730.4,14.0,...|[5.91683789175955...|\n",
      "|Female| 29|New York|           Gold|     1120.2|             14|           4.6|            true|                      25|         Satisfied|         1.0|       5.0|                  2.0|                     1.0|[29.0,1120.2,14.0...|[5.91683789175955...|\n",
      "|Female| 30|New York|           Gold|     1180.8|             16|           4.7|            true|                      19|         Satisfied|         1.0|       5.0|                  2.0|                     1.0|[30.0,1180.8,16.0...|[6.12086678457884...|\n",
      "|Female| 30|New York|           Gold|     1180.8|             16|           4.7|            true|                      19|         Satisfied|         1.0|       5.0|                  2.0|                     1.0|[30.0,1180.8,16.0...|[6.12086678457884...|\n",
      "|Female| 30|New York|           Gold|     1180.8|             16|           4.7|            true|                      19|         Satisfied|         1.0|       5.0|                  2.0|                     1.0|[30.0,1180.8,16.0...|[6.12086678457884...|\n",
      "+------+---+--------+---------------+-----------+---------------+--------------+----------------+------------------------+------------------+------------+----------+---------------------+------------------------+--------------------+--------------------+\n",
      "only showing top 5 rows\n",
      "\n"
     ]
    }
   ],
   "source": [
    "# check the types after encoding\n",
    "df_transformed_train = pipeline_model.transform(trainDF)\n",
    "df_transformed_test = pipeline_model.transform(testDF)\n",
    "\n",
    "df_transformed_train.show(5)"
   ]
  },
  {
   "cell_type": "code",
   "execution_count": 100,
   "metadata": {},
   "outputs": [],
   "source": [
    "# save the pipeline\n",
    "pipeline_model.save('preprocessing_pipeline_model')"
   ]
  },
  {
   "cell_type": "markdown",
   "metadata": {},
   "source": [
    "# `05` Model Pipeline Intialization\n",
    "- Create the logistic regression classifier.\n",
    "- Build the pipeline model that uses all feature engineering steps and the model.\n",
    "- Train the pipeline model using the trainig dataset."
   ]
  },
  {
   "cell_type": "markdown",
   "metadata": {},
   "source": [
    "## Logistic regression classifier"
   ]
  },
  {
   "cell_type": "code",
   "execution_count": 101,
   "metadata": {},
   "outputs": [],
   "source": [
    "#intialize the model\n",
    "Logistic_model = LogisticRegression(featuresCol='scaled_features',\n",
    "                                    labelCol='satisfaction_level_index',\n",
    "                                    predictionCol='prediction').fit(df_transformed_train)"
   ]
  },
  {
   "cell_type": "code",
   "execution_count": 102,
   "metadata": {},
   "outputs": [
    {
     "name": "stdout",
     "output_type": "stream",
     "text": [
      "+----------+------------------------+\n",
      "|prediction|satisfaction_level_index|\n",
      "+----------+------------------------+\n",
      "|       1.0|                     1.0|\n",
      "|       1.0|                     1.0|\n",
      "|       1.0|                     1.0|\n",
      "+----------+------------------------+\n",
      "only showing top 3 rows\n",
      "\n"
     ]
    }
   ],
   "source": [
    "predictions = Logistic_model.transform(df_transformed_test)\n",
    "predictions.select(['prediction', 'satisfaction_level_index']).filter(fn.col('satisfaction_level_index') == 1).show(3)"
   ]
  },
  {
   "cell_type": "code",
   "execution_count": null,
   "metadata": {},
   "outputs": [],
   "source": []
  },
  {
   "cell_type": "markdown",
   "metadata": {},
   "source": [
    "# `06` Predection Model Evaluation"
   ]
  },
  {
   "cell_type": "code",
   "execution_count": 103,
   "metadata": {},
   "outputs": [
    {
     "name": "stdout",
     "output_type": "stream",
     "text": [
      "Test-set Accuracy is :  1.0\n"
     ]
    }
   ],
   "source": [
    "# Evaluate the accuracy on the test set\n",
    "evaluator = MulticlassClassificationEvaluator(labelCol=\"satisfaction_level_index\", predictionCol=\"prediction\", metricName=\"accuracy\")\n",
    "print(\"Test-set Accuracy is : \", evaluator.evaluate(predictions))"
   ]
  },
  {
   "cell_type": "code",
   "execution_count": 106,
   "metadata": {},
   "outputs": [
    {
     "name": "stdout",
     "output_type": "stream",
     "text": [
      "root\n",
      " |-- gender: string (nullable = true)\n",
      " |-- age: integer (nullable = true)\n",
      " |-- city: string (nullable = true)\n",
      " |-- membership_type: string (nullable = true)\n",
      " |-- total_spend: double (nullable = true)\n",
      " |-- items_purchased: integer (nullable = true)\n",
      " |-- average_rating: double (nullable = true)\n",
      " |-- discount_applied: boolean (nullable = true)\n",
      " |-- days_since_last_purchase: integer (nullable = true)\n",
      " |-- satisfaction_level: string (nullable = true)\n",
      " |-- gender_index: double (nullable = false)\n",
      " |-- city_index: double (nullable = false)\n",
      " |-- membership_type_index: double (nullable = false)\n",
      " |-- satisfaction_level_index: double (nullable = false)\n",
      " |-- features: vector (nullable = true)\n",
      " |-- scaled_features: vector (nullable = true)\n",
      " |-- rawPrediction: vector (nullable = true)\n",
      " |-- probability: vector (nullable = true)\n",
      " |-- prediction: double (nullable = false)\n",
      "\n"
     ]
    }
   ],
   "source": [
    "predictions.printSchema()\n"
   ]
  },
  {
   "cell_type": "code",
   "execution_count": 109,
   "metadata": {},
   "outputs": [],
   "source": [
    "from pyspark.sql import SparkSession\n",
    "\n",
    "spark = SparkSession.builder \\\n",
    "    .appName(\"EcommerceDataAnalysis\") \\\n",
    "    .config(\"spark.executor.memory\", \"2g\") \\\n",
    "    .config(\"spark.driver.memory\", \"2g\") \\\n",
    "    .getOrCreate()"
   ]
  },
  {
   "cell_type": "code",
   "execution_count": 110,
   "metadata": {},
   "outputs": [
    {
     "ename": "Py4JJavaError",
     "evalue": "An error occurred while calling z:org.apache.spark.api.python.PythonRDD.runJob.\n: org.apache.spark.SparkException: Job aborted due to stage failure: Task 0 in stage 867.0 failed 1 times, most recent failure: Lost task 0.0 in stage 867.0 (TID 740) (LAPTOP-5FOAR5GQ executor driver): org.apache.spark.SparkException: Python worker failed to connect back.\r\n\tat org.apache.spark.api.python.PythonWorkerFactory.createSimpleWorker(PythonWorkerFactory.scala:203)\r\n\tat org.apache.spark.api.python.PythonWorkerFactory.create(PythonWorkerFactory.scala:109)\r\n\tat org.apache.spark.SparkEnv.createPythonWorker(SparkEnv.scala:124)\r\n\tat org.apache.spark.api.python.BasePythonRunner.compute(PythonRunner.scala:174)\r\n\tat org.apache.spark.api.python.PythonRDD.compute(PythonRDD.scala:67)\r\n\tat org.apache.spark.rdd.RDD.computeOrReadCheckpoint(RDD.scala:367)\r\n\tat org.apache.spark.rdd.RDD.iterator(RDD.scala:331)\r\n\tat org.apache.spark.scheduler.ResultTask.runTask(ResultTask.scala:93)\r\n\tat org.apache.spark.TaskContext.runTaskWithListeners(TaskContext.scala:166)\r\n\tat org.apache.spark.scheduler.Task.run(Task.scala:141)\r\n\tat org.apache.spark.executor.Executor$TaskRunner.$anonfun$run$4(Executor.scala:620)\r\n\tat org.apache.spark.util.SparkErrorUtils.tryWithSafeFinally(SparkErrorUtils.scala:64)\r\n\tat org.apache.spark.util.SparkErrorUtils.tryWithSafeFinally$(SparkErrorUtils.scala:61)\r\n\tat org.apache.spark.util.Utils$.tryWithSafeFinally(Utils.scala:94)\r\n\tat org.apache.spark.executor.Executor$TaskRunner.run(Executor.scala:623)\r\n\tat java.util.concurrent.ThreadPoolExecutor.runWorker(ThreadPoolExecutor.java:1149)\r\n\tat java.util.concurrent.ThreadPoolExecutor$Worker.run(ThreadPoolExecutor.java:624)\r\n\tat java.lang.Thread.run(Thread.java:748)\r\nCaused by: java.net.SocketTimeoutException: Accept timed out\r\n\tat java.net.DualStackPlainSocketImpl.waitForNewConnection(Native Method)\r\n\tat java.net.DualStackPlainSocketImpl.socketAccept(DualStackPlainSocketImpl.java:135)\r\n\tat java.net.AbstractPlainSocketImpl.accept(AbstractPlainSocketImpl.java:409)\r\n\tat java.net.PlainSocketImpl.accept(PlainSocketImpl.java:199)\r\n\tat java.net.ServerSocket.implAccept(ServerSocket.java:545)\r\n\tat java.net.ServerSocket.accept(ServerSocket.java:513)\r\n\tat org.apache.spark.api.python.PythonWorkerFactory.createSimpleWorker(PythonWorkerFactory.scala:190)\r\n\t... 17 more\r\n\nDriver stacktrace:\r\n\tat org.apache.spark.scheduler.DAGScheduler.failJobAndIndependentStages(DAGScheduler.scala:2856)\r\n\tat org.apache.spark.scheduler.DAGScheduler.$anonfun$abortStage$2(DAGScheduler.scala:2792)\r\n\tat org.apache.spark.scheduler.DAGScheduler.$anonfun$abortStage$2$adapted(DAGScheduler.scala:2791)\r\n\tat scala.collection.mutable.ResizableArray.foreach(ResizableArray.scala:62)\r\n\tat scala.collection.mutable.ResizableArray.foreach$(ResizableArray.scala:55)\r\n\tat scala.collection.mutable.ArrayBuffer.foreach(ArrayBuffer.scala:49)\r\n\tat org.apache.spark.scheduler.DAGScheduler.abortStage(DAGScheduler.scala:2791)\r\n\tat org.apache.spark.scheduler.DAGScheduler.$anonfun$handleTaskSetFailed$1(DAGScheduler.scala:1247)\r\n\tat org.apache.spark.scheduler.DAGScheduler.$anonfun$handleTaskSetFailed$1$adapted(DAGScheduler.scala:1247)\r\n\tat scala.Option.foreach(Option.scala:407)\r\n\tat org.apache.spark.scheduler.DAGScheduler.handleTaskSetFailed(DAGScheduler.scala:1247)\r\n\tat org.apache.spark.scheduler.DAGSchedulerEventProcessLoop.doOnReceive(DAGScheduler.scala:3060)\r\n\tat org.apache.spark.scheduler.DAGSchedulerEventProcessLoop.onReceive(DAGScheduler.scala:2994)\r\n\tat org.apache.spark.scheduler.DAGSchedulerEventProcessLoop.onReceive(DAGScheduler.scala:2983)\r\n\tat org.apache.spark.util.EventLoop$$anon$1.run(EventLoop.scala:49)\r\n\tat org.apache.spark.scheduler.DAGScheduler.runJob(DAGScheduler.scala:989)\r\n\tat org.apache.spark.SparkContext.runJob(SparkContext.scala:2393)\r\n\tat org.apache.spark.SparkContext.runJob(SparkContext.scala:2414)\r\n\tat org.apache.spark.SparkContext.runJob(SparkContext.scala:2433)\r\n\tat org.apache.spark.api.python.PythonRDD$.runJob(PythonRDD.scala:181)\r\n\tat org.apache.spark.api.python.PythonRDD.runJob(PythonRDD.scala)\r\n\tat sun.reflect.NativeMethodAccessorImpl.invoke0(Native Method)\r\n\tat sun.reflect.NativeMethodAccessorImpl.invoke(NativeMethodAccessorImpl.java:62)\r\n\tat sun.reflect.DelegatingMethodAccessorImpl.invoke(DelegatingMethodAccessorImpl.java:43)\r\n\tat java.lang.reflect.Method.invoke(Method.java:498)\r\n\tat py4j.reflection.MethodInvoker.invoke(MethodInvoker.java:244)\r\n\tat py4j.reflection.ReflectionEngine.invoke(ReflectionEngine.java:374)\r\n\tat py4j.Gateway.invoke(Gateway.java:282)\r\n\tat py4j.commands.AbstractCommand.invokeMethod(AbstractCommand.java:132)\r\n\tat py4j.commands.CallCommand.execute(CallCommand.java:79)\r\n\tat py4j.ClientServerConnection.waitForCommands(ClientServerConnection.java:182)\r\n\tat py4j.ClientServerConnection.run(ClientServerConnection.java:106)\r\n\tat java.lang.Thread.run(Thread.java:748)\r\nCaused by: org.apache.spark.SparkException: Python worker failed to connect back.\r\n\tat org.apache.spark.api.python.PythonWorkerFactory.createSimpleWorker(PythonWorkerFactory.scala:203)\r\n\tat org.apache.spark.api.python.PythonWorkerFactory.create(PythonWorkerFactory.scala:109)\r\n\tat org.apache.spark.SparkEnv.createPythonWorker(SparkEnv.scala:124)\r\n\tat org.apache.spark.api.python.BasePythonRunner.compute(PythonRunner.scala:174)\r\n\tat org.apache.spark.api.python.PythonRDD.compute(PythonRDD.scala:67)\r\n\tat org.apache.spark.rdd.RDD.computeOrReadCheckpoint(RDD.scala:367)\r\n\tat org.apache.spark.rdd.RDD.iterator(RDD.scala:331)\r\n\tat org.apache.spark.scheduler.ResultTask.runTask(ResultTask.scala:93)\r\n\tat org.apache.spark.TaskContext.runTaskWithListeners(TaskContext.scala:166)\r\n\tat org.apache.spark.scheduler.Task.run(Task.scala:141)\r\n\tat org.apache.spark.executor.Executor$TaskRunner.$anonfun$run$4(Executor.scala:620)\r\n\tat org.apache.spark.util.SparkErrorUtils.tryWithSafeFinally(SparkErrorUtils.scala:64)\r\n\tat org.apache.spark.util.SparkErrorUtils.tryWithSafeFinally$(SparkErrorUtils.scala:61)\r\n\tat org.apache.spark.util.Utils$.tryWithSafeFinally(Utils.scala:94)\r\n\tat org.apache.spark.executor.Executor$TaskRunner.run(Executor.scala:623)\r\n\tat java.util.concurrent.ThreadPoolExecutor.runWorker(ThreadPoolExecutor.java:1149)\r\n\tat java.util.concurrent.ThreadPoolExecutor$Worker.run(ThreadPoolExecutor.java:624)\r\n\t... 1 more\r\nCaused by: java.net.SocketTimeoutException: Accept timed out\r\n\tat java.net.DualStackPlainSocketImpl.waitForNewConnection(Native Method)\r\n\tat java.net.DualStackPlainSocketImpl.socketAccept(DualStackPlainSocketImpl.java:135)\r\n\tat java.net.AbstractPlainSocketImpl.accept(AbstractPlainSocketImpl.java:409)\r\n\tat java.net.PlainSocketImpl.accept(PlainSocketImpl.java:199)\r\n\tat java.net.ServerSocket.implAccept(ServerSocket.java:545)\r\n\tat java.net.ServerSocket.accept(ServerSocket.java:513)\r\n\tat org.apache.spark.api.python.PythonWorkerFactory.createSimpleWorker(PythonWorkerFactory.scala:190)\r\n\t... 17 more\r\n",
     "output_type": "error",
     "traceback": [
      "\u001b[1;31m---------------------------------------------------------------------------\u001b[0m",
      "\u001b[1;31mPy4JJavaError\u001b[0m                             Traceback (most recent call last)",
      "Cell \u001b[1;32mIn[110], line 9\u001b[0m\n\u001b[0;32m      5\u001b[0m \u001b[38;5;66;03m# Convert to RDD and check the content\u001b[39;00m\n\u001b[0;32m      6\u001b[0m prediction_and_satisfaction \u001b[38;5;241m=\u001b[39m filtered_predictions\u001b[38;5;241m.\u001b[39mselect(\u001b[38;5;124m\"\u001b[39m\u001b[38;5;124mprediction\u001b[39m\u001b[38;5;124m\"\u001b[39m, \u001b[38;5;124m\"\u001b[39m\u001b[38;5;124msatisfaction_level_index\u001b[39m\u001b[38;5;124m\"\u001b[39m) \\\n\u001b[0;32m      7\u001b[0m     \u001b[38;5;241m.\u001b[39mrdd\u001b[38;5;241m.\u001b[39mmap(\u001b[38;5;28;01mlambda\u001b[39;00m row: (\u001b[38;5;28mfloat\u001b[39m(row[\u001b[38;5;124m\"\u001b[39m\u001b[38;5;124mprediction\u001b[39m\u001b[38;5;124m\"\u001b[39m]), \u001b[38;5;28mfloat\u001b[39m(row[\u001b[38;5;124m\"\u001b[39m\u001b[38;5;124msatisfaction_level_index\u001b[39m\u001b[38;5;124m\"\u001b[39m])))\n\u001b[1;32m----> 9\u001b[0m \u001b[38;5;28mprint\u001b[39m(\u001b[43mprediction_and_satisfaction\u001b[49m\u001b[38;5;241;43m.\u001b[39;49m\u001b[43mtake\u001b[49m\u001b[43m(\u001b[49m\u001b[38;5;241;43m5\u001b[39;49m\u001b[43m)\u001b[49m)  \u001b[38;5;66;03m# Check if the RDD contains data\u001b[39;00m\n",
      "File \u001b[1;32mc:\\Users\\arfat\\OneDrive\\Desktop\\i dont know\\7 SEM\\bda\\BDA_Project\\.venv\\Lib\\site-packages\\pyspark\\rdd.py:2855\u001b[0m, in \u001b[0;36mRDD.take\u001b[1;34m(self, num)\u001b[0m\n\u001b[0;32m   2852\u001b[0m         taken \u001b[38;5;241m+\u001b[39m\u001b[38;5;241m=\u001b[39m \u001b[38;5;241m1\u001b[39m\n\u001b[0;32m   2854\u001b[0m p \u001b[38;5;241m=\u001b[39m \u001b[38;5;28mrange\u001b[39m(partsScanned, \u001b[38;5;28mmin\u001b[39m(partsScanned \u001b[38;5;241m+\u001b[39m numPartsToTry, totalParts))\n\u001b[1;32m-> 2855\u001b[0m res \u001b[38;5;241m=\u001b[39m \u001b[38;5;28;43mself\u001b[39;49m\u001b[38;5;241;43m.\u001b[39;49m\u001b[43mcontext\u001b[49m\u001b[38;5;241;43m.\u001b[39;49m\u001b[43mrunJob\u001b[49m\u001b[43m(\u001b[49m\u001b[38;5;28;43mself\u001b[39;49m\u001b[43m,\u001b[49m\u001b[43m \u001b[49m\u001b[43mtakeUpToNumLeft\u001b[49m\u001b[43m,\u001b[49m\u001b[43m \u001b[49m\u001b[43mp\u001b[49m\u001b[43m)\u001b[49m\n\u001b[0;32m   2857\u001b[0m items \u001b[38;5;241m+\u001b[39m\u001b[38;5;241m=\u001b[39m res\n\u001b[0;32m   2858\u001b[0m partsScanned \u001b[38;5;241m+\u001b[39m\u001b[38;5;241m=\u001b[39m numPartsToTry\n",
      "File \u001b[1;32mc:\\Users\\arfat\\OneDrive\\Desktop\\i dont know\\7 SEM\\bda\\BDA_Project\\.venv\\Lib\\site-packages\\pyspark\\context.py:2510\u001b[0m, in \u001b[0;36mSparkContext.runJob\u001b[1;34m(self, rdd, partitionFunc, partitions, allowLocal)\u001b[0m\n\u001b[0;32m   2508\u001b[0m mappedRDD \u001b[38;5;241m=\u001b[39m rdd\u001b[38;5;241m.\u001b[39mmapPartitions(partitionFunc)\n\u001b[0;32m   2509\u001b[0m \u001b[38;5;28;01massert\u001b[39;00m \u001b[38;5;28mself\u001b[39m\u001b[38;5;241m.\u001b[39m_jvm \u001b[38;5;129;01mis\u001b[39;00m \u001b[38;5;129;01mnot\u001b[39;00m \u001b[38;5;28;01mNone\u001b[39;00m\n\u001b[1;32m-> 2510\u001b[0m sock_info \u001b[38;5;241m=\u001b[39m \u001b[38;5;28;43mself\u001b[39;49m\u001b[38;5;241;43m.\u001b[39;49m\u001b[43m_jvm\u001b[49m\u001b[38;5;241;43m.\u001b[39;49m\u001b[43mPythonRDD\u001b[49m\u001b[38;5;241;43m.\u001b[39;49m\u001b[43mrunJob\u001b[49m\u001b[43m(\u001b[49m\u001b[38;5;28;43mself\u001b[39;49m\u001b[38;5;241;43m.\u001b[39;49m\u001b[43m_jsc\u001b[49m\u001b[38;5;241;43m.\u001b[39;49m\u001b[43msc\u001b[49m\u001b[43m(\u001b[49m\u001b[43m)\u001b[49m\u001b[43m,\u001b[49m\u001b[43m \u001b[49m\u001b[43mmappedRDD\u001b[49m\u001b[38;5;241;43m.\u001b[39;49m\u001b[43m_jrdd\u001b[49m\u001b[43m,\u001b[49m\u001b[43m \u001b[49m\u001b[43mpartitions\u001b[49m\u001b[43m)\u001b[49m\n\u001b[0;32m   2511\u001b[0m \u001b[38;5;28;01mreturn\u001b[39;00m \u001b[38;5;28mlist\u001b[39m(_load_from_socket(sock_info, mappedRDD\u001b[38;5;241m.\u001b[39m_jrdd_deserializer))\n",
      "File \u001b[1;32mc:\\Users\\arfat\\OneDrive\\Desktop\\i dont know\\7 SEM\\bda\\BDA_Project\\.venv\\Lib\\site-packages\\py4j\\java_gateway.py:1322\u001b[0m, in \u001b[0;36mJavaMember.__call__\u001b[1;34m(self, *args)\u001b[0m\n\u001b[0;32m   1316\u001b[0m command \u001b[38;5;241m=\u001b[39m proto\u001b[38;5;241m.\u001b[39mCALL_COMMAND_NAME \u001b[38;5;241m+\u001b[39m\\\n\u001b[0;32m   1317\u001b[0m     \u001b[38;5;28mself\u001b[39m\u001b[38;5;241m.\u001b[39mcommand_header \u001b[38;5;241m+\u001b[39m\\\n\u001b[0;32m   1318\u001b[0m     args_command \u001b[38;5;241m+\u001b[39m\\\n\u001b[0;32m   1319\u001b[0m     proto\u001b[38;5;241m.\u001b[39mEND_COMMAND_PART\n\u001b[0;32m   1321\u001b[0m answer \u001b[38;5;241m=\u001b[39m \u001b[38;5;28mself\u001b[39m\u001b[38;5;241m.\u001b[39mgateway_client\u001b[38;5;241m.\u001b[39msend_command(command)\n\u001b[1;32m-> 1322\u001b[0m return_value \u001b[38;5;241m=\u001b[39m \u001b[43mget_return_value\u001b[49m\u001b[43m(\u001b[49m\n\u001b[0;32m   1323\u001b[0m \u001b[43m    \u001b[49m\u001b[43manswer\u001b[49m\u001b[43m,\u001b[49m\u001b[43m \u001b[49m\u001b[38;5;28;43mself\u001b[39;49m\u001b[38;5;241;43m.\u001b[39;49m\u001b[43mgateway_client\u001b[49m\u001b[43m,\u001b[49m\u001b[43m \u001b[49m\u001b[38;5;28;43mself\u001b[39;49m\u001b[38;5;241;43m.\u001b[39;49m\u001b[43mtarget_id\u001b[49m\u001b[43m,\u001b[49m\u001b[43m \u001b[49m\u001b[38;5;28;43mself\u001b[39;49m\u001b[38;5;241;43m.\u001b[39;49m\u001b[43mname\u001b[49m\u001b[43m)\u001b[49m\n\u001b[0;32m   1325\u001b[0m \u001b[38;5;28;01mfor\u001b[39;00m temp_arg \u001b[38;5;129;01min\u001b[39;00m temp_args:\n\u001b[0;32m   1326\u001b[0m     \u001b[38;5;28;01mif\u001b[39;00m \u001b[38;5;28mhasattr\u001b[39m(temp_arg, \u001b[38;5;124m\"\u001b[39m\u001b[38;5;124m_detach\u001b[39m\u001b[38;5;124m\"\u001b[39m):\n",
      "File \u001b[1;32mc:\\Users\\arfat\\OneDrive\\Desktop\\i dont know\\7 SEM\\bda\\BDA_Project\\.venv\\Lib\\site-packages\\pyspark\\errors\\exceptions\\captured.py:179\u001b[0m, in \u001b[0;36mcapture_sql_exception.<locals>.deco\u001b[1;34m(*a, **kw)\u001b[0m\n\u001b[0;32m    177\u001b[0m \u001b[38;5;28;01mdef\u001b[39;00m \u001b[38;5;21mdeco\u001b[39m(\u001b[38;5;241m*\u001b[39ma: Any, \u001b[38;5;241m*\u001b[39m\u001b[38;5;241m*\u001b[39mkw: Any) \u001b[38;5;241m-\u001b[39m\u001b[38;5;241m>\u001b[39m Any:\n\u001b[0;32m    178\u001b[0m     \u001b[38;5;28;01mtry\u001b[39;00m:\n\u001b[1;32m--> 179\u001b[0m         \u001b[38;5;28;01mreturn\u001b[39;00m \u001b[43mf\u001b[49m\u001b[43m(\u001b[49m\u001b[38;5;241;43m*\u001b[39;49m\u001b[43ma\u001b[49m\u001b[43m,\u001b[49m\u001b[43m \u001b[49m\u001b[38;5;241;43m*\u001b[39;49m\u001b[38;5;241;43m*\u001b[39;49m\u001b[43mkw\u001b[49m\u001b[43m)\u001b[49m\n\u001b[0;32m    180\u001b[0m     \u001b[38;5;28;01mexcept\u001b[39;00m Py4JJavaError \u001b[38;5;28;01mas\u001b[39;00m e:\n\u001b[0;32m    181\u001b[0m         converted \u001b[38;5;241m=\u001b[39m convert_exception(e\u001b[38;5;241m.\u001b[39mjava_exception)\n",
      "File \u001b[1;32mc:\\Users\\arfat\\OneDrive\\Desktop\\i dont know\\7 SEM\\bda\\BDA_Project\\.venv\\Lib\\site-packages\\py4j\\protocol.py:326\u001b[0m, in \u001b[0;36mget_return_value\u001b[1;34m(answer, gateway_client, target_id, name)\u001b[0m\n\u001b[0;32m    324\u001b[0m value \u001b[38;5;241m=\u001b[39m OUTPUT_CONVERTER[\u001b[38;5;28mtype\u001b[39m](answer[\u001b[38;5;241m2\u001b[39m:], gateway_client)\n\u001b[0;32m    325\u001b[0m \u001b[38;5;28;01mif\u001b[39;00m answer[\u001b[38;5;241m1\u001b[39m] \u001b[38;5;241m==\u001b[39m REFERENCE_TYPE:\n\u001b[1;32m--> 326\u001b[0m     \u001b[38;5;28;01mraise\u001b[39;00m Py4JJavaError(\n\u001b[0;32m    327\u001b[0m         \u001b[38;5;124m\"\u001b[39m\u001b[38;5;124mAn error occurred while calling \u001b[39m\u001b[38;5;132;01m{0}\u001b[39;00m\u001b[38;5;132;01m{1}\u001b[39;00m\u001b[38;5;132;01m{2}\u001b[39;00m\u001b[38;5;124m.\u001b[39m\u001b[38;5;130;01m\\n\u001b[39;00m\u001b[38;5;124m\"\u001b[39m\u001b[38;5;241m.\u001b[39m\n\u001b[0;32m    328\u001b[0m         \u001b[38;5;28mformat\u001b[39m(target_id, \u001b[38;5;124m\"\u001b[39m\u001b[38;5;124m.\u001b[39m\u001b[38;5;124m\"\u001b[39m, name), value)\n\u001b[0;32m    329\u001b[0m \u001b[38;5;28;01melse\u001b[39;00m:\n\u001b[0;32m    330\u001b[0m     \u001b[38;5;28;01mraise\u001b[39;00m Py4JError(\n\u001b[0;32m    331\u001b[0m         \u001b[38;5;124m\"\u001b[39m\u001b[38;5;124mAn error occurred while calling \u001b[39m\u001b[38;5;132;01m{0}\u001b[39;00m\u001b[38;5;132;01m{1}\u001b[39;00m\u001b[38;5;132;01m{2}\u001b[39;00m\u001b[38;5;124m. Trace:\u001b[39m\u001b[38;5;130;01m\\n\u001b[39;00m\u001b[38;5;132;01m{3}\u001b[39;00m\u001b[38;5;130;01m\\n\u001b[39;00m\u001b[38;5;124m\"\u001b[39m\u001b[38;5;241m.\u001b[39m\n\u001b[0;32m    332\u001b[0m         \u001b[38;5;28mformat\u001b[39m(target_id, \u001b[38;5;124m\"\u001b[39m\u001b[38;5;124m.\u001b[39m\u001b[38;5;124m\"\u001b[39m, name, value))\n",
      "\u001b[1;31mPy4JJavaError\u001b[0m: An error occurred while calling z:org.apache.spark.api.python.PythonRDD.runJob.\n: org.apache.spark.SparkException: Job aborted due to stage failure: Task 0 in stage 867.0 failed 1 times, most recent failure: Lost task 0.0 in stage 867.0 (TID 740) (LAPTOP-5FOAR5GQ executor driver): org.apache.spark.SparkException: Python worker failed to connect back.\r\n\tat org.apache.spark.api.python.PythonWorkerFactory.createSimpleWorker(PythonWorkerFactory.scala:203)\r\n\tat org.apache.spark.api.python.PythonWorkerFactory.create(PythonWorkerFactory.scala:109)\r\n\tat org.apache.spark.SparkEnv.createPythonWorker(SparkEnv.scala:124)\r\n\tat org.apache.spark.api.python.BasePythonRunner.compute(PythonRunner.scala:174)\r\n\tat org.apache.spark.api.python.PythonRDD.compute(PythonRDD.scala:67)\r\n\tat org.apache.spark.rdd.RDD.computeOrReadCheckpoint(RDD.scala:367)\r\n\tat org.apache.spark.rdd.RDD.iterator(RDD.scala:331)\r\n\tat org.apache.spark.scheduler.ResultTask.runTask(ResultTask.scala:93)\r\n\tat org.apache.spark.TaskContext.runTaskWithListeners(TaskContext.scala:166)\r\n\tat org.apache.spark.scheduler.Task.run(Task.scala:141)\r\n\tat org.apache.spark.executor.Executor$TaskRunner.$anonfun$run$4(Executor.scala:620)\r\n\tat org.apache.spark.util.SparkErrorUtils.tryWithSafeFinally(SparkErrorUtils.scala:64)\r\n\tat org.apache.spark.util.SparkErrorUtils.tryWithSafeFinally$(SparkErrorUtils.scala:61)\r\n\tat org.apache.spark.util.Utils$.tryWithSafeFinally(Utils.scala:94)\r\n\tat org.apache.spark.executor.Executor$TaskRunner.run(Executor.scala:623)\r\n\tat java.util.concurrent.ThreadPoolExecutor.runWorker(ThreadPoolExecutor.java:1149)\r\n\tat java.util.concurrent.ThreadPoolExecutor$Worker.run(ThreadPoolExecutor.java:624)\r\n\tat java.lang.Thread.run(Thread.java:748)\r\nCaused by: java.net.SocketTimeoutException: Accept timed out\r\n\tat java.net.DualStackPlainSocketImpl.waitForNewConnection(Native Method)\r\n\tat java.net.DualStackPlainSocketImpl.socketAccept(DualStackPlainSocketImpl.java:135)\r\n\tat java.net.AbstractPlainSocketImpl.accept(AbstractPlainSocketImpl.java:409)\r\n\tat java.net.PlainSocketImpl.accept(PlainSocketImpl.java:199)\r\n\tat java.net.ServerSocket.implAccept(ServerSocket.java:545)\r\n\tat java.net.ServerSocket.accept(ServerSocket.java:513)\r\n\tat org.apache.spark.api.python.PythonWorkerFactory.createSimpleWorker(PythonWorkerFactory.scala:190)\r\n\t... 17 more\r\n\nDriver stacktrace:\r\n\tat org.apache.spark.scheduler.DAGScheduler.failJobAndIndependentStages(DAGScheduler.scala:2856)\r\n\tat org.apache.spark.scheduler.DAGScheduler.$anonfun$abortStage$2(DAGScheduler.scala:2792)\r\n\tat org.apache.spark.scheduler.DAGScheduler.$anonfun$abortStage$2$adapted(DAGScheduler.scala:2791)\r\n\tat scala.collection.mutable.ResizableArray.foreach(ResizableArray.scala:62)\r\n\tat scala.collection.mutable.ResizableArray.foreach$(ResizableArray.scala:55)\r\n\tat scala.collection.mutable.ArrayBuffer.foreach(ArrayBuffer.scala:49)\r\n\tat org.apache.spark.scheduler.DAGScheduler.abortStage(DAGScheduler.scala:2791)\r\n\tat org.apache.spark.scheduler.DAGScheduler.$anonfun$handleTaskSetFailed$1(DAGScheduler.scala:1247)\r\n\tat org.apache.spark.scheduler.DAGScheduler.$anonfun$handleTaskSetFailed$1$adapted(DAGScheduler.scala:1247)\r\n\tat scala.Option.foreach(Option.scala:407)\r\n\tat org.apache.spark.scheduler.DAGScheduler.handleTaskSetFailed(DAGScheduler.scala:1247)\r\n\tat org.apache.spark.scheduler.DAGSchedulerEventProcessLoop.doOnReceive(DAGScheduler.scala:3060)\r\n\tat org.apache.spark.scheduler.DAGSchedulerEventProcessLoop.onReceive(DAGScheduler.scala:2994)\r\n\tat org.apache.spark.scheduler.DAGSchedulerEventProcessLoop.onReceive(DAGScheduler.scala:2983)\r\n\tat org.apache.spark.util.EventLoop$$anon$1.run(EventLoop.scala:49)\r\n\tat org.apache.spark.scheduler.DAGScheduler.runJob(DAGScheduler.scala:989)\r\n\tat org.apache.spark.SparkContext.runJob(SparkContext.scala:2393)\r\n\tat org.apache.spark.SparkContext.runJob(SparkContext.scala:2414)\r\n\tat org.apache.spark.SparkContext.runJob(SparkContext.scala:2433)\r\n\tat org.apache.spark.api.python.PythonRDD$.runJob(PythonRDD.scala:181)\r\n\tat org.apache.spark.api.python.PythonRDD.runJob(PythonRDD.scala)\r\n\tat sun.reflect.NativeMethodAccessorImpl.invoke0(Native Method)\r\n\tat sun.reflect.NativeMethodAccessorImpl.invoke(NativeMethodAccessorImpl.java:62)\r\n\tat sun.reflect.DelegatingMethodAccessorImpl.invoke(DelegatingMethodAccessorImpl.java:43)\r\n\tat java.lang.reflect.Method.invoke(Method.java:498)\r\n\tat py4j.reflection.MethodInvoker.invoke(MethodInvoker.java:244)\r\n\tat py4j.reflection.ReflectionEngine.invoke(ReflectionEngine.java:374)\r\n\tat py4j.Gateway.invoke(Gateway.java:282)\r\n\tat py4j.commands.AbstractCommand.invokeMethod(AbstractCommand.java:132)\r\n\tat py4j.commands.CallCommand.execute(CallCommand.java:79)\r\n\tat py4j.ClientServerConnection.waitForCommands(ClientServerConnection.java:182)\r\n\tat py4j.ClientServerConnection.run(ClientServerConnection.java:106)\r\n\tat java.lang.Thread.run(Thread.java:748)\r\nCaused by: org.apache.spark.SparkException: Python worker failed to connect back.\r\n\tat org.apache.spark.api.python.PythonWorkerFactory.createSimpleWorker(PythonWorkerFactory.scala:203)\r\n\tat org.apache.spark.api.python.PythonWorkerFactory.create(PythonWorkerFactory.scala:109)\r\n\tat org.apache.spark.SparkEnv.createPythonWorker(SparkEnv.scala:124)\r\n\tat org.apache.spark.api.python.BasePythonRunner.compute(PythonRunner.scala:174)\r\n\tat org.apache.spark.api.python.PythonRDD.compute(PythonRDD.scala:67)\r\n\tat org.apache.spark.rdd.RDD.computeOrReadCheckpoint(RDD.scala:367)\r\n\tat org.apache.spark.rdd.RDD.iterator(RDD.scala:331)\r\n\tat org.apache.spark.scheduler.ResultTask.runTask(ResultTask.scala:93)\r\n\tat org.apache.spark.TaskContext.runTaskWithListeners(TaskContext.scala:166)\r\n\tat org.apache.spark.scheduler.Task.run(Task.scala:141)\r\n\tat org.apache.spark.executor.Executor$TaskRunner.$anonfun$run$4(Executor.scala:620)\r\n\tat org.apache.spark.util.SparkErrorUtils.tryWithSafeFinally(SparkErrorUtils.scala:64)\r\n\tat org.apache.spark.util.SparkErrorUtils.tryWithSafeFinally$(SparkErrorUtils.scala:61)\r\n\tat org.apache.spark.util.Utils$.tryWithSafeFinally(Utils.scala:94)\r\n\tat org.apache.spark.executor.Executor$TaskRunner.run(Executor.scala:623)\r\n\tat java.util.concurrent.ThreadPoolExecutor.runWorker(ThreadPoolExecutor.java:1149)\r\n\tat java.util.concurrent.ThreadPoolExecutor$Worker.run(ThreadPoolExecutor.java:624)\r\n\t... 1 more\r\nCaused by: java.net.SocketTimeoutException: Accept timed out\r\n\tat java.net.DualStackPlainSocketImpl.waitForNewConnection(Native Method)\r\n\tat java.net.DualStackPlainSocketImpl.socketAccept(DualStackPlainSocketImpl.java:135)\r\n\tat java.net.AbstractPlainSocketImpl.accept(AbstractPlainSocketImpl.java:409)\r\n\tat java.net.PlainSocketImpl.accept(PlainSocketImpl.java:199)\r\n\tat java.net.ServerSocket.implAccept(ServerSocket.java:545)\r\n\tat java.net.ServerSocket.accept(ServerSocket.java:513)\r\n\tat org.apache.spark.api.python.PythonWorkerFactory.createSimpleWorker(PythonWorkerFactory.scala:190)\r\n\t... 17 more\r\n"
     ]
    }
   ],
   "source": [
    "filtered_predictions = predictions.filter(\n",
    "    (col(\"prediction\").isNotNull()) & (col(\"satisfaction_level_index\").isNotNull())\n",
    ")\n",
    "\n",
    "# Convert to RDD and check the content\n",
    "prediction_and_satisfaction = filtered_predictions.select(\"prediction\", \"satisfaction_level_index\") \\\n",
    "    .rdd.map(lambda row: (float(row[\"prediction\"]), float(row[\"satisfaction_level_index\"])))\n",
    "\n",
    "print(prediction_and_satisfaction.take(5))  # Check if the RDD contains data\n"
   ]
  },
  {
   "cell_type": "markdown",
   "metadata": {},
   "source": [
    "Data seems to be a little bit perfect :D "
   ]
  },
  {
   "cell_type": "markdown",
   "metadata": {},
   "source": [
    "# `07` Isolation Forests For anomaly Detection\n",
    "\n",
    "Why?\n",
    "\n",
    "- It's an ensemble method based on decision trees and is efficient for detecting outliers.\n",
    "- Does not assume any specific shape or distribution of the data.\n",
    "- Can be adapted for streaming data by updating the existing forest as new data points arrive.\n",
    "- It is relatively efficient and scalable for adding new data points."
   ]
  },
  {
   "cell_type": "code",
   "execution_count": 113,
   "metadata": {},
   "outputs": [],
   "source": [
    "from pyspark.sql import SparkSession\n",
    "\n",
    "# Re-initialize Spark session with memory configurations\n",
    "spark = SparkSession.builder \\\n",
    "    .appName(\"EcommerceDataAnalysis\") \\\n",
    "    .config(\"spark.executor.memory\", \"2g\") \\\n",
    "    .config(\"spark.driver.memory\", \"2g\") \\\n",
    "    .getOrCreate()\n"
   ]
  },
  {
   "cell_type": "code",
   "execution_count": null,
   "metadata": {},
   "outputs": [],
   "source": [
    "from sklearn.ensemble import IsolationForest\n",
    "\n",
    "\n",
    "# Extract feature vectors from the DataFrame\n",
    "train_features = np.array(df_transformed_train.select('scaled_features').rdd.map(lambda x: x[0]).collect())\n",
    "test_features = np.array(df_transformed_test.select('scaled_features').rdd.map(lambda x: x[0]).collect())\n",
    "\n",
    "\n",
    "\n",
    "# Initialize and fit the Isolation Forest model\n",
    "iso_forest = IsolationForest(random_state=42, contamination=0.05)\n",
    "iso_model = iso_forest.fit(train_features)\n"
   ]
  },
  {
   "cell_type": "code",
   "execution_count": null,
   "metadata": {},
   "outputs": [
    {
     "data": {
      "text/html": [
       "<div>\n",
       "<style scoped>\n",
       "    .dataframe tbody tr th:only-of-type {\n",
       "        vertical-align: middle;\n",
       "    }\n",
       "\n",
       "    .dataframe tbody tr th {\n",
       "        vertical-align: top;\n",
       "    }\n",
       "\n",
       "    .dataframe thead th {\n",
       "        text-align: right;\n",
       "    }\n",
       "</style>\n",
       "<table border=\"1\" class=\"dataframe\">\n",
       "  <thead>\n",
       "    <tr style=\"text-align: right;\">\n",
       "      <th></th>\n",
       "      <th>gender</th>\n",
       "      <th>age</th>\n",
       "      <th>city</th>\n",
       "      <th>membership_type</th>\n",
       "      <th>total_spend</th>\n",
       "      <th>items_purchased</th>\n",
       "      <th>average_rating</th>\n",
       "      <th>discount_applied</th>\n",
       "      <th>days_since_last_purchase</th>\n",
       "      <th>satisfaction_level</th>\n",
       "      <th>gender_index</th>\n",
       "      <th>city_index</th>\n",
       "      <th>membership_type_index</th>\n",
       "      <th>satisfaction_level_index</th>\n",
       "      <th>features</th>\n",
       "      <th>scaled_features</th>\n",
       "    </tr>\n",
       "  </thead>\n",
       "  <tbody>\n",
       "    <tr>\n",
       "      <th>20</th>\n",
       "      <td>Female</td>\n",
       "      <td>41</td>\n",
       "      <td>Chicago</td>\n",
       "      <td>Bronze</td>\n",
       "      <td>475.25</td>\n",
       "      <td>9</td>\n",
       "      <td>3.6</td>\n",
       "      <td>True</td>\n",
       "      <td>46</td>\n",
       "      <td>Unsatisfied</td>\n",
       "      <td>1.0</td>\n",
       "      <td>4.0</td>\n",
       "      <td>1.0</td>\n",
       "      <td>0.0</td>\n",
       "      <td>[41.0, 475.25, 9.0, 1.0, 3.6, 46.0, 1.0, 4.0, ...</td>\n",
       "      <td>[8.365184605591091, 1.311911163220853, 2.14837...</td>\n",
       "    </tr>\n",
       "    <tr>\n",
       "      <th>21</th>\n",
       "      <td>Female</td>\n",
       "      <td>41</td>\n",
       "      <td>Chicago</td>\n",
       "      <td>Bronze</td>\n",
       "      <td>475.25</td>\n",
       "      <td>9</td>\n",
       "      <td>3.6</td>\n",
       "      <td>True</td>\n",
       "      <td>48</td>\n",
       "      <td>Unsatisfied</td>\n",
       "      <td>1.0</td>\n",
       "      <td>4.0</td>\n",
       "      <td>1.0</td>\n",
       "      <td>0.0</td>\n",
       "      <td>[41.0, 475.25, 9.0, 1.0, 3.6, 48.0, 1.0, 4.0, ...</td>\n",
       "      <td>[8.365184605591091, 1.311911163220853, 2.14837...</td>\n",
       "    </tr>\n",
       "  </tbody>\n",
       "</table>\n",
       "</div>"
      ],
      "text/plain": [
       "    gender  age     city membership_type  total_spend  items_purchased  \\\n",
       "20  Female   41  Chicago          Bronze       475.25                9   \n",
       "21  Female   41  Chicago          Bronze       475.25                9   \n",
       "\n",
       "    average_rating  discount_applied  days_since_last_purchase  \\\n",
       "20             3.6              True                        46   \n",
       "21             3.6              True                        48   \n",
       "\n",
       "   satisfaction_level  gender_index  city_index  membership_type_index  \\\n",
       "20        Unsatisfied           1.0         4.0                    1.0   \n",
       "21        Unsatisfied           1.0         4.0                    1.0   \n",
       "\n",
       "    satisfaction_level_index  \\\n",
       "20                       0.0   \n",
       "21                       0.0   \n",
       "\n",
       "                                             features  \\\n",
       "20  [41.0, 475.25, 9.0, 1.0, 3.6, 46.0, 1.0, 4.0, ...   \n",
       "21  [41.0, 475.25, 9.0, 1.0, 3.6, 48.0, 1.0, 4.0, ...   \n",
       "\n",
       "                                      scaled_features  \n",
       "20  [8.365184605591091, 1.311911163220853, 2.14837...  \n",
       "21  [8.365184605591091, 1.311911163220853, 2.14837...  "
      ]
     },
     "execution_count": 33,
     "metadata": {},
     "output_type": "execute_result"
    }
   ],
   "source": [
    "# Assuming iso_model.predict(test_features) returns a NumPy array\n",
    "predictions = iso_model.predict(test_features)\n",
    "\n",
    "# Find the indices where the value is -1 (anomalies)\n",
    "anomaly_indices = np.where(predictions == -1)[0]\n",
    "\n",
    "# Show the anomalies\n",
    "df_transformed_test = df_transformed_test.toPandas()\n",
    "df_transformed_test.iloc[anomaly_indices]\n"
   ]
  },
  {
   "cell_type": "code",
   "execution_count": null,
   "metadata": {},
   "outputs": [
    {
     "data": {
      "text/plain": [
       "(53, 16)"
      ]
     },
     "execution_count": 35,
     "metadata": {},
     "output_type": "execute_result"
    }
   ],
   "source": [
    "df_transformed_test.shape"
   ]
  },
  {
   "cell_type": "code",
   "execution_count": null,
   "metadata": {},
   "outputs": [
    {
     "data": {
      "image/png": "[encoded data removed]",
      "text/plain": [
       "<Figure size 800x550 with 1 Axes>"
      ]
     },
     "metadata": {},
     "output_type": "display_data"
    }
   ],
   "source": [
    "from sklearn.decomposition import PCA\n",
    "\n",
    "# Fit PCA on the training features\n",
    "pca = PCA(n_components=2, random_state=42)\n",
    "train_features_pca = pca.fit_transform(train_features)\n",
    "\n",
    "# Project the test features onto the learned PCA space\n",
    "test_features_pca = pca.transform(test_features)\n",
    "\n",
    "# Get the predictions from the Isolation Forest model\n",
    "predictions = iso_model.predict(test_features)\n",
    "\n",
    "# Plot the normal data points\n",
    "plt.scatter(test_features_pca[predictions == 1, 0], test_features_pca[predictions == 1, 1], c='blue', label='Normal')\n",
    "\n",
    "# Plot the anomalies\n",
    "plt.scatter(test_features_pca[predictions == -1, 0], test_features_pca[predictions == -1, 1], c='red', label='Anomaly')\n",
    "\n",
    "plt.title('Isolation Forest Anomaly Detection (PCA)')\n",
    "plt.xlabel('Principal Component 1')\n",
    "plt.ylabel('Principal Component 2')\n",
    "plt.legend()\n",
    "plt.show()\n"
   ]
  },
  {
   "cell_type": "code",
   "execution_count": null,
   "metadata": {},
   "outputs": [],
   "source": [
    "# save the model \n",
    "from joblib import dump\n",
    "\n",
    "dump(iso_model, './isolation_forest.joblib')"
   ]
  }
 ],
 "metadata": {
  "kernelspec": {
   "display_name": ".venv",
   "language": "python",
   "name": "python3"
  },
  "language_info": {
   "codemirror_mode": {
    "name": "ipython",
    "version": 3
   },
   "file_extension": ".py",
   "mimetype": "text/x-python",
   "name": "python",
   "nbconvert_exporter": "python",
   "pygments_lexer": "ipython3",
   "version": "3.11.5"
  }
 },
 "nbformat": 4,
 "nbformat_minor": 2
}
